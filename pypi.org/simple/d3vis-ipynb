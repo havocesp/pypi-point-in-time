<!DOCTYPE html>
<html>
  <head>
    <meta name="pypi:repository-version" content="1.1">
    <title>Links for d3vis-ipynb</title>
  </head>
  <body>
    <h1>Links for d3vis-ipynb</h1>
<a href="https://files.pythonhosted.org/packages/17/84/9268009166dbf2aa07ee11fbb4783d2ea9a369c4bfb15544d9fff3956e62/d3vis_ipynb-0.1.0-py3-none-any.whl#sha256=d3cec9538fbbabe38842d31f7455ad81d4cf1b60a57151dba4d3ec9316f761ab" data-requires-python="&gt;=3.9" data-dist-info-metadata="sha256=76f71efc6e3e6be4551556180f843302f890ebf9e0b71044750145377f6cac50" data-core-metadata="sha256=76f71efc6e3e6be4551556180f843302f890ebf9e0b71044750145377f6cac50">d3vis_ipynb-0.1.0-py3-none-any.whl</a><br />
<a href="https://files.pythonhosted.org/packages/bb/90/b4d46a35c85907e9280ae862b8cc51dc43cae6b60f03fcaa50bcf73db084/d3vis_ipynb-0.1.0.tar.gz#sha256=3de2883172d53d9efc15c9f47e3fa4eeaa4fa7c109b3e1d822eb9368f674a9db" data-requires-python="&gt;=3.9" >d3vis_ipynb-0.1.0.tar.gz</a><br />
<a href="https://files.pythonhosted.org/packages/63/b1/72239d8fa46ce62eba3f46c67bcf7b5a645afe9d464a780141818a817276/d3vis_ipynb-0.1.1-py3-none-any.whl#sha256=64e035add061058fde9f7091729a5a198c3002d7e376ee8b651801a68ae0ae79" data-requires-python="&gt;=3.9" data-dist-info-metadata="sha256=3449a00b30fb5b8105d39152d5b371dc51742d71b03554db8c823e6e94a50c90" data-core-metadata="sha256=3449a00b30fb5b8105d39152d5b371dc51742d71b03554db8c823e6e94a50c90">d3vis_ipynb-0.1.1-py3-none-any.whl</a><br />
<a href="https://files.pythonhosted.org/packages/26/86/ce3581f1e13fd127612468009004836047903e4b933ccfac803d3a3efc3f/d3vis_ipynb-0.1.1.tar.gz#sha256=aada1b9fadc5e97bb349239b37d383e10cdd3c9e2374b94025110b839d2372ca" data-requires-python="&gt;=3.9" >d3vis_ipynb-0.1.1.tar.gz</a><br />
<a href="https://files.pythonhosted.org/packages/a8/02/b7a7450fcfd4a03c0cc45953bf8ff0569d4eec97711965807d1fcd8adbae/d3vis_ipynb-0.1.2-py3-none-any.whl#sha256=eae7f939f3aeb899ed82e96434bf0ce12286b39bca697e2bc8d7000b709806c8" data-requires-python="&gt;=3.9" data-dist-info-metadata="sha256=f25bf971830eaa6c8ae8dc9acbde534316561aafe318aab349c3d1770920a17f" data-core-metadata="sha256=f25bf971830eaa6c8ae8dc9acbde534316561aafe318aab349c3d1770920a17f">d3vis_ipynb-0.1.2-py3-none-any.whl</a><br />
<a href="https://files.pythonhosted.org/packages/ee/dd/17adeb545897086402924b9a0b8c529a4003652f42380f14925765949057/d3vis_ipynb-0.1.2.tar.gz#sha256=02cf47cf07a9d6fe95c1a0847427021ef6d110ba30ff3a47edf2c17ec8801529" data-requires-python="&gt;=3.9" >d3vis_ipynb-0.1.2.tar.gz</a><br />
</body>
</html>
<!--SERIAL 22739930-->